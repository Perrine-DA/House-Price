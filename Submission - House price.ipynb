{
 "cells": [
  {
   "cell_type": "code",
   "execution_count": 1,
   "id": "05ca743d",
   "metadata": {},
   "outputs": [],
   "source": [
    "import pandas as pd\n",
    "import numpy as np\n",
    "import matplotlib.pyplot as plt\n",
    "from sklearn.model_selection import train_test_split\n",
    "from sklearn.ensemble import GradientBoostingRegressor\n",
    "from sklearn.ensemble import RandomForestRegressor\n",
    "from sklearn.impute import SimpleImputer\n",
    "from sklearn.preprocessing import StandardScaler,OneHotEncoder,LabelEncoder\n",
    "from sklearn.metrics import mean_squared_error"
   ]
  },
  {
   "cell_type": "code",
   "execution_count": 2,
   "id": "5fc24f1e",
   "metadata": {},
   "outputs": [],
   "source": [
    "submission = pd.read_csv(\"sample_submission.csv\")"
   ]
  },
  {
   "cell_type": "code",
   "execution_count": 3,
   "id": "a610360a",
   "metadata": {},
   "outputs": [
    {
     "data": {
      "text/plain": [
       "(1459, 2)"
      ]
     },
     "execution_count": 3,
     "metadata": {},
     "output_type": "execute_result"
    }
   ],
   "source": [
    "submission.shape"
   ]
  },
  {
   "cell_type": "code",
   "execution_count": 4,
   "id": "a73330ad",
   "metadata": {},
   "outputs": [
    {
     "data": {
      "text/plain": [
       "(1460, 81)"
      ]
     },
     "execution_count": 4,
     "metadata": {},
     "output_type": "execute_result"
    }
   ],
   "source": [
    "train = pd.read_csv(\"train.csv\")\n",
    "train.shape"
   ]
  },
  {
   "cell_type": "code",
   "execution_count": 5,
   "id": "a9f495d5",
   "metadata": {},
   "outputs": [
    {
     "data": {
      "text/plain": [
       "(1459, 80)"
      ]
     },
     "metadata": {},
     "output_type": "display_data"
    },
    {
     "name": "stdout",
     "output_type": "stream",
     "text": [
      "<class 'pandas.core.frame.DataFrame'>\n",
      "RangeIndex: 1459 entries, 0 to 1458\n",
      "Data columns (total 80 columns):\n",
      " #   Column         Non-Null Count  Dtype  \n",
      "---  ------         --------------  -----  \n",
      " 0   Id             1459 non-null   int64  \n",
      " 1   MSSubClass     1459 non-null   int64  \n",
      " 2   MSZoning       1455 non-null   object \n",
      " 3   LotFrontage    1232 non-null   float64\n",
      " 4   LotArea        1459 non-null   int64  \n",
      " 5   Street         1459 non-null   object \n",
      " 6   Alley          107 non-null    object \n",
      " 7   LotShape       1459 non-null   object \n",
      " 8   LandContour    1459 non-null   object \n",
      " 9   Utilities      1457 non-null   object \n",
      " 10  LotConfig      1459 non-null   object \n",
      " 11  LandSlope      1459 non-null   object \n",
      " 12  Neighborhood   1459 non-null   object \n",
      " 13  Condition1     1459 non-null   object \n",
      " 14  Condition2     1459 non-null   object \n",
      " 15  BldgType       1459 non-null   object \n",
      " 16  HouseStyle     1459 non-null   object \n",
      " 17  OverallQual    1459 non-null   int64  \n",
      " 18  OverallCond    1459 non-null   int64  \n",
      " 19  YearBuilt      1459 non-null   int64  \n",
      " 20  YearRemodAdd   1459 non-null   int64  \n",
      " 21  RoofStyle      1459 non-null   object \n",
      " 22  RoofMatl       1459 non-null   object \n",
      " 23  Exterior1st    1458 non-null   object \n",
      " 24  Exterior2nd    1458 non-null   object \n",
      " 25  MasVnrType     565 non-null    object \n",
      " 26  MasVnrArea     1444 non-null   float64\n",
      " 27  ExterQual      1459 non-null   object \n",
      " 28  ExterCond      1459 non-null   object \n",
      " 29  Foundation     1459 non-null   object \n",
      " 30  BsmtQual       1415 non-null   object \n",
      " 31  BsmtCond       1414 non-null   object \n",
      " 32  BsmtExposure   1415 non-null   object \n",
      " 33  BsmtFinType1   1417 non-null   object \n",
      " 34  BsmtFinSF1     1458 non-null   float64\n",
      " 35  BsmtFinType2   1417 non-null   object \n",
      " 36  BsmtFinSF2     1458 non-null   float64\n",
      " 37  BsmtUnfSF      1458 non-null   float64\n",
      " 38  TotalBsmtSF    1458 non-null   float64\n",
      " 39  Heating        1459 non-null   object \n",
      " 40  HeatingQC      1459 non-null   object \n",
      " 41  CentralAir     1459 non-null   object \n",
      " 42  Electrical     1459 non-null   object \n",
      " 43  1stFlrSF       1459 non-null   int64  \n",
      " 44  2ndFlrSF       1459 non-null   int64  \n",
      " 45  LowQualFinSF   1459 non-null   int64  \n",
      " 46  GrLivArea      1459 non-null   int64  \n",
      " 47  BsmtFullBath   1457 non-null   float64\n",
      " 48  BsmtHalfBath   1457 non-null   float64\n",
      " 49  FullBath       1459 non-null   int64  \n",
      " 50  HalfBath       1459 non-null   int64  \n",
      " 51  BedroomAbvGr   1459 non-null   int64  \n",
      " 52  KitchenAbvGr   1459 non-null   int64  \n",
      " 53  KitchenQual    1458 non-null   object \n",
      " 54  TotRmsAbvGrd   1459 non-null   int64  \n",
      " 55  Functional     1457 non-null   object \n",
      " 56  Fireplaces     1459 non-null   int64  \n",
      " 57  FireplaceQu    729 non-null    object \n",
      " 58  GarageType     1383 non-null   object \n",
      " 59  GarageYrBlt    1381 non-null   float64\n",
      " 60  GarageFinish   1381 non-null   object \n",
      " 61  GarageCars     1458 non-null   float64\n",
      " 62  GarageArea     1458 non-null   float64\n",
      " 63  GarageQual     1381 non-null   object \n",
      " 64  GarageCond     1381 non-null   object \n",
      " 65  PavedDrive     1459 non-null   object \n",
      " 66  WoodDeckSF     1459 non-null   int64  \n",
      " 67  OpenPorchSF    1459 non-null   int64  \n",
      " 68  EnclosedPorch  1459 non-null   int64  \n",
      " 69  3SsnPorch      1459 non-null   int64  \n",
      " 70  ScreenPorch    1459 non-null   int64  \n",
      " 71  PoolArea       1459 non-null   int64  \n",
      " 72  PoolQC         3 non-null      object \n",
      " 73  Fence          290 non-null    object \n",
      " 74  MiscFeature    51 non-null     object \n",
      " 75  MiscVal        1459 non-null   int64  \n",
      " 76  MoSold         1459 non-null   int64  \n",
      " 77  YrSold         1459 non-null   int64  \n",
      " 78  SaleType       1458 non-null   object \n",
      " 79  SaleCondition  1459 non-null   object \n",
      "dtypes: float64(11), int64(26), object(43)\n",
      "memory usage: 912.0+ KB\n"
     ]
    }
   ],
   "source": [
    "test = pd.read_csv(\"test.csv\")\n",
    "display(test.shape)\n",
    "test.info()"
   ]
  },
  {
   "cell_type": "code",
   "execution_count": 6,
   "id": "71267553",
   "metadata": {},
   "outputs": [
    {
     "data": {
      "text/plain": [
       "count      1460.000000\n",
       "mean     180921.195890\n",
       "std       79442.502883\n",
       "min       34900.000000\n",
       "25%      129975.000000\n",
       "50%      163000.000000\n",
       "75%      214000.000000\n",
       "max      755000.000000\n",
       "Name: SalePrice, dtype: float64"
      ]
     },
     "execution_count": 6,
     "metadata": {},
     "output_type": "execute_result"
    }
   ],
   "source": [
    "train.SalePrice.describe()"
   ]
  },
  {
   "cell_type": "code",
   "execution_count": 7,
   "id": "ae30b6b3",
   "metadata": {},
   "outputs": [
    {
     "data": {
      "image/png": "[encoded data removed]",
      "text/plain": [
       "<Figure size 800x600 with 1 Axes>"
      ]
     },
     "metadata": {},
     "output_type": "display_data"
    }
   ],
   "source": [
    "plt.figure(figsize=(8,6))\n",
    "plt.hist(train.SalePrice, range=(0,755000), bins = 50, density = True, rwidth = 0.8)\n",
    "plt.title(\"Sale Price Distribution\");"
   ]
  },
  {
   "cell_type": "code",
   "execution_count": 8,
   "id": "3479d40c",
   "metadata": {},
   "outputs": [],
   "source": [
    "col_drop = [\"MiscFeature\",\"Fence\",\"PoolQC\",\"FireplaceQu\",\"MasVnrType\", \"Alley\"]\n",
    "\n",
    "train = train.drop(col_drop, axis = 1)\n",
    "\n",
    "test = test.drop(col_drop, axis = 1)"
   ]
  },
  {
   "cell_type": "code",
   "execution_count": 9,
   "id": "67cc630e",
   "metadata": {},
   "outputs": [],
   "source": [
    "num_cols = train.select_dtypes(include=[\"int64\", \"float64\"]).drop(columns=[\"Id\", \"SalePrice\"], axis=1).columns\n",
    "cat_cols = train.select_dtypes(include=[\"object\"]).columns\n",
    "\n",
    "le = LabelEncoder()\n",
    "\n",
    "for feature in num_cols:\n",
    "    train[feature].fillna(train[feature].median(), inplace=True)\n",
    "    test[feature].fillna(test[feature].median(), inplace=True)\n",
    "\n",
    "for feature in cat_cols:\n",
    "    train[feature].fillna(train[feature].mode()[0], inplace=True)\n",
    "    test[feature].fillna(test[feature].mode()[0], inplace=True)\n",
    "    train[feature] = le.fit_transform(train[feature].values)\n",
    "    test[feature] = le.transform(test[feature].values)"
   ]
  },
  {
   "cell_type": "code",
   "execution_count": 10,
   "id": "8f609b9f",
   "metadata": {},
   "outputs": [],
   "source": [
    "feats = train.drop(\"SalePrice\", axis = 1)\n",
    "target = train[\"SalePrice\"]"
   ]
  },
  {
   "cell_type": "code",
   "execution_count": 11,
   "id": "51df7df7",
   "metadata": {},
   "outputs": [],
   "source": [
    "X_train, X_test, y_train, y_test = train_test_split(feats, target, test_size = 0.2, random_state = 42)"
   ]
  },
  {
   "cell_type": "code",
   "execution_count": 12,
   "id": "dca47ca0",
   "metadata": {},
   "outputs": [
    {
     "name": "stdout",
     "output_type": "stream",
     "text": [
      "Score Random Forest train: 0.9797845857795242\n",
      "Score Random Forest test: 0.8934306209150824\n",
      "Score Gradient Boosting train : 0.9678517464523909\n",
      "Score Gradient Boosting test : 0.8925747231151541\n",
      "RMSE du modèle de Random Forest - train : 10980.703828350759\n",
      "RMSE du modèle de Random Forest - test : 28590.59113202633\n",
      "RMSE du modèle Gradient Boosting - train: 13847.378015579343\n",
      "RMSE du modèle Gradient Boosting - test : 28705.172297064633\n"
     ]
    }
   ],
   "source": [
    "# Modélisation Random Forest et Gradient Boosting\n",
    "rf = RandomForestRegressor()\n",
    "gbx = GradientBoostingRegressor()\n",
    "\n",
    "rf.fit(X_train, y_train)\n",
    "score_rf = rf.score(X_test, y_test)\n",
    "score_train_rf = rf.score(X_train,y_train)\n",
    "print(\"Score Random Forest train:\", score_train_rf)\n",
    "print(\"Score Random Forest test:\", score_rf)\n",
    "\n",
    "gbx.fit(X_train, y_train)\n",
    "score_gbx = gbx.score(X_test, y_test)\n",
    "score_train_gbx = gbx.score(X_train, y_train)\n",
    "print(\"Score Gradient Boosting train :\",score_train_gbx)\n",
    "print(\"Score Gradient Boosting test :\", score_gbx)\n",
    "\n",
    " #Calcul du rmse\n",
    "pred_rf = rf.predict(X_test)\n",
    "pred_train_rf = rf.predict(X_train)\n",
    "rmse_train_rf = mean_squared_error(y_train, pred_train_rf, squared = False) \n",
    "rmse_test_rf = mean_squared_error(y_test, pred_rf, squared = False) \n",
    "\n",
    "print(\"RMSE du modèle de Random Forest - train :\", rmse_train_rf)\n",
    "print(\"RMSE du modèle de Random Forest - test :\", rmse_test_rf)\n",
    "\n",
    "pred_gb = gbx.predict(X_test)\n",
    "pred_train_gb = gbx.predict(X_train)\n",
    "rmse_train_gb = mean_squared_error(y_train, pred_train_gb, squared = False) \n",
    "rmse_test_gb = mean_squared_error(y_test, pred_gb, squared = False)\n",
    "\n",
    "print(\"RMSE du modèle Gradient Boosting - train:\", rmse_train_gb)\n",
    "print(\"RMSE du modèle Gradient Boosting - test :\", rmse_test_gb)"
   ]
  },
  {
   "cell_type": "code",
   "execution_count": 13,
   "id": "884a8aae",
   "metadata": {},
   "outputs": [
    {
     "data": {
      "text/html": [
       "<div>\n",
       "<style scoped>\n",
       "    .dataframe tbody tr th:only-of-type {\n",
       "        vertical-align: middle;\n",
       "    }\n",
       "\n",
       "    .dataframe tbody tr th {\n",
       "        vertical-align: top;\n",
       "    }\n",
       "\n",
       "    .dataframe thead th {\n",
       "        text-align: right;\n",
       "    }\n",
       "</style>\n",
       "<table border=\"1\" class=\"dataframe\">\n",
       "  <thead>\n",
       "    <tr style=\"text-align: right;\">\n",
       "      <th></th>\n",
       "      <th>Accuracy Score - Random Forest</th>\n",
       "      <th>Accuracy Score - Gradient Boosting</th>\n",
       "      <th>RMSE -  Random Forest</th>\n",
       "      <th>RMSE - Gradient Boosting</th>\n",
       "    </tr>\n",
       "  </thead>\n",
       "  <tbody>\n",
       "    <tr>\n",
       "      <th>Test</th>\n",
       "      <td>0.893431</td>\n",
       "      <td>0.892575</td>\n",
       "      <td>28590.591132</td>\n",
       "      <td>28705.172297</td>\n",
       "    </tr>\n",
       "    <tr>\n",
       "      <th>Train</th>\n",
       "      <td>0.979785</td>\n",
       "      <td>0.967852</td>\n",
       "      <td>10980.703828</td>\n",
       "      <td>13847.378016</td>\n",
       "    </tr>\n",
       "  </tbody>\n",
       "</table>\n",
       "</div>"
      ],
      "text/plain": [
       "       Accuracy Score - Random Forest   Accuracy Score - Gradient Boosting  \\\n",
       "Test                         0.893431                             0.892575   \n",
       "Train                        0.979785                             0.967852   \n",
       "\n",
       "        RMSE -  Random Forest   RMSE - Gradient Boosting  \n",
       "Test             28590.591132               28705.172297  \n",
       "Train            10980.703828               13847.378016  "
      ]
     },
     "execution_count": 13,
     "metadata": {},
     "output_type": "execute_result"
    }
   ],
   "source": [
    "data = {'Accuracy Score - Random Forest' : [score_rf, score_train_rf],\n",
    "       ' Accuracy Score - Gradient Boosting' : [score_gbx, score_train_gbx],\n",
    "       ' RMSE -  Random Forest' : [rmse_test_rf, rmse_train_rf],\n",
    "       ' RMSE - Gradient Boosting' : [rmse_test_gb, rmse_train_gb]}\n",
    "\n",
    "df = pd.DataFrame(data, index =['Test', 'Train'])\n",
    "\n",
    "df.head()"
   ]
  },
  {
   "cell_type": "code",
   "execution_count": 16,
   "id": "9f8228d8",
   "metadata": {},
   "outputs": [
    {
     "data": {
      "text/html": [
       "<div>\n",
       "<style scoped>\n",
       "    .dataframe tbody tr th:only-of-type {\n",
       "        vertical-align: middle;\n",
       "    }\n",
       "\n",
       "    .dataframe tbody tr th {\n",
       "        vertical-align: top;\n",
       "    }\n",
       "\n",
       "    .dataframe thead th {\n",
       "        text-align: right;\n",
       "    }\n",
       "</style>\n",
       "<table border=\"1\" class=\"dataframe\">\n",
       "  <thead>\n",
       "    <tr style=\"text-align: right;\">\n",
       "      <th></th>\n",
       "      <th>Id</th>\n",
       "      <th>SalePrice</th>\n",
       "    </tr>\n",
       "  </thead>\n",
       "  <tbody>\n",
       "    <tr>\n",
       "      <th>0</th>\n",
       "      <td>1461</td>\n",
       "      <td>124865.883184</td>\n",
       "    </tr>\n",
       "    <tr>\n",
       "      <th>1</th>\n",
       "      <td>1462</td>\n",
       "      <td>155839.852329</td>\n",
       "    </tr>\n",
       "    <tr>\n",
       "      <th>2</th>\n",
       "      <td>1463</td>\n",
       "      <td>178067.343574</td>\n",
       "    </tr>\n",
       "    <tr>\n",
       "      <th>3</th>\n",
       "      <td>1464</td>\n",
       "      <td>185093.767782</td>\n",
       "    </tr>\n",
       "    <tr>\n",
       "      <th>4</th>\n",
       "      <td>1465</td>\n",
       "      <td>203403.043283</td>\n",
       "    </tr>\n",
       "  </tbody>\n",
       "</table>\n",
       "</div>"
      ],
      "text/plain": [
       "     Id      SalePrice\n",
       "0  1461  124865.883184\n",
       "1  1462  155839.852329\n",
       "2  1463  178067.343574\n",
       "3  1464  185093.767782\n",
       "4  1465  203403.043283"
      ]
     },
     "execution_count": 16,
     "metadata": {},
     "output_type": "execute_result"
    }
   ],
   "source": [
    "predictions = gbx.predict(test)\n",
    "submission[\"SalePrice\"] = predictions\n",
    "submission.head()"
   ]
  },
  {
   "cell_type": "code",
   "execution_count": 17,
   "id": "00ac7590",
   "metadata": {},
   "outputs": [],
   "source": [
    "# Finale CSV file\n",
    "submission.to_csv(\"predictions.csv\", index=False)"
   ]
  },
  {
   "cell_type": "code",
   "execution_count": null,
   "id": "51e7920a",
   "metadata": {},
   "outputs": [],
   "source": []
  }
 ],
 "metadata": {
  "kernelspec": {
   "display_name": "Python 3 (ipykernel)",
   "language": "python",
   "name": "python3"
  },
  "language_info": {
   "codemirror_mode": {
    "name": "ipython",
    "version": 3
   },
   "file_extension": ".py",
   "mimetype": "text/x-python",
   "name": "python",
   "nbconvert_exporter": "python",
   "pygments_lexer": "ipython3",
   "version": "3.11.5"
  }
 },
 "nbformat": 4,
 "nbformat_minor": 5
}
